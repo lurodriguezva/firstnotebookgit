{
 "cells": [
  {
   "cell_type": "markdown",
   "id": "adfa4f8d-f60f-4b7c-8cb8-d39bc18f8f0f",
   "metadata": {},
   "source": [
    "# Data Science Tools and Ecosystem"
   ]
  },
  {
   "cell_type": "markdown",
   "id": "be63effa-2205-4914-9e26-fe2344ee7685",
   "metadata": {},
   "source": [
    "In this notebook, Data Science Tools and Ecosystem are summarized."
   ]
  },
  {
   "cell_type": "markdown",
   "id": "f0ca9490-259a-4501-b936-217266f255a5",
   "metadata": {},
   "source": [
    "Objectives: \n",
    "* List popular languages for Data Science\n",
    "* List popular libraries for Data Science\n",
    "* Examples of arithmetic expresion in python"
   ]
  },
  {
   "cell_type": "markdown",
   "id": "37599eaa-f43d-4b20-933a-4b7822e2238c",
   "metadata": {},
   "source": [
    "Some of the popular languages that Data Scientists use are:\n",
    "1. Python\n",
    "2. R\n",
    "3. Julia"
   ]
  },
  {
   "cell_type": "markdown",
   "id": "3407f9be-881f-41dc-b75d-acbaed0f0708",
   "metadata": {},
   "source": [
    "Some of the commonly used libraries used by Data Scientists include:\n",
    "1. TensorFlow\n",
    "2. Pandas\n",
    "3. Scikit-learn\n",
    "4. SciPy"
   ]
  },
  {
   "cell_type": "markdown",
   "id": "d2e569ea-4e86-4f05-88df-0ba85eac9519",
   "metadata": {},
   "source": [
    "| Data Science Tools |\n",
    "|--------------------|\n",
    "|Apache Spark|\n",
    "|RStudio|\n",
    "|Apache Hadoop|"
   ]
  },
  {
   "cell_type": "markdown",
   "id": "98673a39-699c-4a1b-bda0-ef5d4b8c289d",
   "metadata": {},
   "source": [
    "### Below are a few examples of evaluating arithmetic expressions in Python"
   ]
  },
  {
   "cell_type": "code",
   "execution_count": 4,
   "id": "6230bac5-ebc1-4af5-adb3-f6c1efc069a8",
   "metadata": {},
   "outputs": [
    {
     "data": {
      "text/plain": [
       "17"
      ]
     },
     "execution_count": 4,
     "metadata": {},
     "output_type": "execute_result"
    }
   ],
   "source": [
    "#This a simple arithmetic expression to mutiply then add integers\n",
    "(3*4)+5"
   ]
  },
  {
   "cell_type": "code",
   "execution_count": 7,
   "id": "f3984118-5fb7-4e28-b63f-b2857530615f",
   "metadata": {},
   "outputs": [
    {
     "data": {
      "text/plain": [
       "3.3333333333333335"
      ]
     },
     "execution_count": 7,
     "metadata": {},
     "output_type": "execute_result"
    }
   ],
   "source": [
    "minutes = 200\n",
    "hours = minutes/60\n",
    "hours"
   ]
  },
  {
   "cell_type": "markdown",
   "id": "cec73765-59cd-4e80-8fce-f5cd1d0ad439",
   "metadata": {},
   "source": [
    "## Author\n",
    "Luis Angel Rodriguez Valdelamar"
   ]
  },
  {
   "cell_type": "code",
   "execution_count": null,
   "id": "74ac8603-a870-4108-a221-5fe3a6479b61",
   "metadata": {},
   "outputs": [],
   "source": []
  }
 ],
 "metadata": {
  "kernelspec": {
   "display_name": "Python 3 (ipykernel)",
   "language": "python",
   "name": "python3"
  },
  "language_info": {
   "codemirror_mode": {
    "name": "ipython",
    "version": 3
   },
   "file_extension": ".py",
   "mimetype": "text/x-python",
   "name": "python",
   "nbconvert_exporter": "python",
   "pygments_lexer": "ipython3",
   "version": "3.11.5"
  }
 },
 "nbformat": 4,
 "nbformat_minor": 5
}
